{
 "cells": [
  {
   "cell_type": "code",
   "execution_count": null,
   "metadata": {},
   "outputs": [],
   "source": [
    "import tensorflow as tf\n",
    "from IPython import embed\n",
    "\n",
    "kernel_size = (5, 5)\n",
    "strides = (1, 1)\n",
    "dilation_rate = (1, 1)\n",
    "\n",
    "\n",
    "def _get_conv_indices(feature_map_size):\n",
    "    \"\"\"the x, y coordinates in the window when a filter sliding on the feature map\n",
    "    :param feature_map_size:\n",
    "    :return: y, x with shape [1, out_h, out_w, filter_h * filter_w]\n",
    "    \"\"\"\n",
    "    feat_h, feat_w = [int(i) for i in feature_map_size[0:2]]\n",
    "\n",
    "    x, y = tf.meshgrid(tf.range(feat_w), tf.range(feat_h))\n",
    "    x, y = [tf.reshape(i, [1, *i.get_shape(), 1])\n",
    "            for i in [x, y]]  # shape [1, h, w, 1]\n",
    "    embed()\n",
    "    x, y = [\n",
    "        tf.image.extract_patches(i, [1, *kernel_size, 1], [1, *strides, 1],\n",
    "                                 [1, *dilation_rate, 1], 'VALID')\n",
    "        for i in [x, y]\n",
    "    ]  # shape [1, out_h, out_w, filter_h * filter_w]\n",
    "    return y, x\n",
    "\n",
    "\n",
    "feature_map_size = (100, 100)\n",
    "y, x = _get_conv_indices(feature_map_size)"
   ]
  },
  {
   "cell_type": "code",
   "execution_count": null,
   "metadata": {},
   "outputs": [],
   "source": []
  }
 ],
 "metadata": {
  "kernelspec": {
   "display_name": "Python 3",
   "language": "python",
   "name": "python3"
  },
  "language_info": {
   "codemirror_mode": {
    "name": "ipython",
    "version": 3
   },
   "file_extension": ".py",
   "mimetype": "text/x-python",
   "name": "python",
   "nbconvert_exporter": "python",
   "pygments_lexer": "ipython3",
   "version": "3.8.6"
  }
 },
 "nbformat": 4,
 "nbformat_minor": 4
}
