{
 "cells": [
  {
   "cell_type": "code",
   "execution_count": null,
   "metadata": {},
   "outputs": [],
   "source": [
    "import jax.numpy as jnp\n",
    "import matplotlib.pyplot as plt\n",
    "from skimage import io\n",
    "\n",
    "load_image = lambda x: jnp.float32(io.imread(x)) / 255\n",
    "depth = load_image(\"../images/depth.png\")\n",
    "rgb = load_image(\"../images/frame.jpg\")\n",
    "\n",
    "fig, axs = plt.subplots(2, 1, figsize=(15, 9))\n",
    "\n",
    "axs[0].imshow(rgb)\n",
    "axs[0].set_title(\"Frame\")\n",
    "axs[0].axis(\"off\")\n",
    "\n",
    "axs[1].imshow(depth, cmap=\"gray\")\n",
    "axs[1].set_title(\"Depth\")\n",
    "axs[1].axis(\"off\")\n",
    "\n",
    "plt.savefig(\"out/replica.jpg\", bbox_inches=\"tight\")"
   ]
  }
 ],
 "metadata": {
  "kernelspec": {
   "display_name": "Python 3",
   "language": "python",
   "name": "python3"
  },
  "language_info": {
   "codemirror_mode": {
    "name": "ipython",
    "version": 3
   },
   "file_extension": ".py",
   "mimetype": "text/x-python",
   "name": "python",
   "nbconvert_exporter": "python",
   "pygments_lexer": "ipython3",
   "version": "3.8.6"
  }
 },
 "nbformat": 4,
 "nbformat_minor": 4
}
