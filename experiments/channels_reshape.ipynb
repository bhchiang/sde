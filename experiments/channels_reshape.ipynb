{
 "cells": [
  {
   "cell_type": "code",
   "execution_count": 1,
   "metadata": {},
   "outputs": [
    {
     "data": {
      "text/plain": [
       "(10, 2)"
      ]
     },
     "execution_count": 1,
     "metadata": {},
     "output_type": "execute_result"
    }
   ],
   "source": [
    "import jax.numpy as jnp\n",
    "\n",
    "channels_in = 10\n",
    "groups = 2\n",
    "d = jnp.arange(channels_in * groups).reshape((channels_in, groups))\n",
    "d.shape"
   ]
  },
  {
   "cell_type": "code",
   "execution_count": 2,
   "metadata": {},
   "outputs": [
    {
     "data": {
      "text/plain": [
       "DeviceArray([[ 0,  1],\n",
       "             [ 2,  3],\n",
       "             [ 4,  5],\n",
       "             [ 6,  7],\n",
       "             [ 8,  9],\n",
       "             [10, 11],\n",
       "             [12, 13],\n",
       "             [14, 15],\n",
       "             [16, 17],\n",
       "             [18, 19]], dtype=int32)"
      ]
     },
     "execution_count": 2,
     "metadata": {},
     "output_type": "execute_result"
    }
   ],
   "source": [
    "d"
   ]
  },
  {
   "cell_type": "code",
   "execution_count": 3,
   "metadata": {},
   "outputs": [
    {
     "data": {
      "text/plain": [
       "DeviceArray([ 0,  1,  2,  3,  4,  5,  6,  7,  8,  9, 10, 11, 12, 13, 14,\n",
       "             15, 16, 17, 18, 19], dtype=int32)"
      ]
     },
     "execution_count": 3,
     "metadata": {},
     "output_type": "execute_result"
    }
   ],
   "source": [
    "d.reshape((channels_in * groups))"
   ]
  },
  {
   "cell_type": "code",
   "execution_count": 4,
   "metadata": {},
   "outputs": [
    {
     "data": {
      "text/plain": [
       "DeviceArray([ 0,  1,  2,  3,  4,  5,  6,  7,  8,  9, 10, 11, 12, 13, 14,\n",
       "             15, 16, 17, 18, 19], dtype=int32)"
      ]
     },
     "execution_count": 4,
     "metadata": {},
     "output_type": "execute_result"
    }
   ],
   "source": [
    "d.flatten()"
   ]
  },
  {
   "cell_type": "markdown",
   "metadata": {},
   "source": [
    "Rows are flattened first, then columns are stacked (not the other way around)."
   ]
  },
  {
   "cell_type": "code",
   "execution_count": 13,
   "metadata": {},
   "outputs": [],
   "source": [
    "features_in_group = 2"
   ]
  },
  {
   "cell_type": "code",
   "execution_count": 14,
   "metadata": {},
   "outputs": [
    {
     "data": {
      "text/plain": [
       "(10, 4)"
      ]
     },
     "execution_count": 14,
     "metadata": {},
     "output_type": "execute_result"
    }
   ],
   "source": [
    "tiled_d = jnp.tile(d, [1, features_in_group])\n",
    "tiled_d.shape"
   ]
  },
  {
   "cell_type": "markdown",
   "metadata": {},
   "source": [
    "Here, features_per_group = 2."
   ]
  },
  {
   "cell_type": "code",
   "execution_count": 15,
   "metadata": {},
   "outputs": [
    {
     "data": {
      "text/plain": [
       "DeviceArray([[ 0,  1,  0,  1],\n",
       "             [ 2,  3,  2,  3],\n",
       "             [ 4,  5,  4,  5],\n",
       "             [ 6,  7,  6,  7],\n",
       "             [ 8,  9,  8,  9],\n",
       "             [10, 11, 10, 11],\n",
       "             [12, 13, 12, 13],\n",
       "             [14, 15, 14, 15],\n",
       "             [16, 17, 16, 17],\n",
       "             [18, 19, 18, 19]], dtype=int32)"
      ]
     },
     "execution_count": 15,
     "metadata": {},
     "output_type": "execute_result"
    }
   ],
   "source": [
    "tiled_d"
   ]
  },
  {
   "cell_type": "markdown",
   "metadata": {},
   "source": [
    "Before, we had 2 sets of 10 offsets (1 for each group).\n",
    "offset_1, offset_2\n",
    "\n",
    "When we tile, we end up with offset_1, offset_2, offset_1, offset_2 (vs. offset_1, offset_1, offset_2, offset_2)."
   ]
  },
  {
   "cell_type": "code",
   "execution_count": 9,
   "metadata": {},
   "outputs": [
    {
     "data": {
      "text/plain": [
       "DeviceArray([ 0,  1,  0,  1,  2,  3,  2,  3,  4,  5,  4,  5,  6,  7,  6,\n",
       "              7,  8,  9,  8,  9, 10, 11, 10, 11, 12, 13, 12, 13, 14, 15,\n",
       "             14, 15, 16, 17, 16, 17, 18, 19, 18, 19], dtype=int32)"
      ]
     },
     "execution_count": 9,
     "metadata": {},
     "output_type": "execute_result"
    }
   ],
   "source": [
    "flat_d = tiled_d.reshape(-1)\n",
    "flat_d"
   ]
  },
  {
   "cell_type": "markdown",
   "metadata": {},
   "source": [
    "When we flatten end up with the following:\n",
    "\n",
    "- channel_0, offset_1, filter_1 (1 in group 1)\n",
    "- channel_0, offset_2, filter_2 (2 in group 2)\n",
    "- channel_0, offset_1, filter_3 (1 in group 2)\n",
    "- channel_0, offset_2, filter_4 (2 in group 2)\n",
    "\n",
    "---\n",
    "- channel_1, offset_1, filter_1 (1 in group 1)\n",
    "- channel_1, offset_2, filter_2 (2 in group 2)\n",
    "- channel_1, offset_1, filter_3 (1 in group 2)\n",
    "- channel_1, offset_2, filter_4 (2 in group 2)\n",
    "\n",
    "We want to sum across each filter axis."
   ]
  },
  {
   "cell_type": "markdown",
   "metadata": {},
   "source": [
    "features_in_groups * num_groups = num_features\n",
    "\n",
    "Total # chanels = num_features * channels_in"
   ]
  },
  {
   "cell_type": "code",
   "execution_count": 10,
   "metadata": {},
   "outputs": [
    {
     "data": {
      "text/plain": [
       "40"
      ]
     },
     "execution_count": 10,
     "metadata": {},
     "output_type": "execute_result"
    }
   ],
   "source": [
    "len(flat_d)"
   ]
  },
  {
   "cell_type": "code",
   "execution_count": 16,
   "metadata": {},
   "outputs": [
    {
     "data": {
      "text/plain": [
       "(4, 40)"
      ]
     },
     "execution_count": 16,
     "metadata": {},
     "output_type": "execute_result"
    }
   ],
   "source": [
    "num_filters = features_in_group * groups\n",
    "num_filters, num_filters * channels_in"
   ]
  },
  {
   "cell_type": "markdown",
   "metadata": {},
   "source": [
    "Now we pretend that we performed the filtering and reshape it back."
   ]
  },
  {
   "cell_type": "code",
   "execution_count": 44,
   "metadata": {},
   "outputs": [],
   "source": [
    "final = jnp.reshape(flat_d, [channels_in, num_filters])"
   ]
  },
  {
   "cell_type": "code",
   "execution_count": 47,
   "metadata": {},
   "outputs": [
    {
     "data": {
      "text/plain": [
       "DeviceArray([[ 0,  2,  4,  6,  8, 10, 12, 14, 16, 18],\n",
       "             [ 1,  3,  5,  7,  9, 11, 13, 15, 17, 19],\n",
       "             [ 0,  2,  4,  6,  8, 10, 12, 14, 16, 18],\n",
       "             [ 1,  3,  5,  7,  9, 11, 13, 15, 17, 19]], dtype=int32)"
      ]
     },
     "execution_count": 47,
     "metadata": {},
     "output_type": "execute_result"
    }
   ],
   "source": [
    "final.transpose((-1, -2))"
   ]
  },
  {
   "cell_type": "code",
   "execution_count": 43,
   "metadata": {},
   "outputs": [
    {
     "data": {
      "text/plain": [
       "DeviceArray([[ 0,  4,  1,  5,  0,  6,  1,  7,  2,  6],\n",
       "             [ 3,  7,  2,  8,  3,  9,  4,  8,  5,  9],\n",
       "             [10, 14, 11, 15, 10, 16, 11, 17, 12, 16],\n",
       "             [13, 17, 12, 18, 13, 19, 14, 18, 15, 19]], dtype=int32)"
      ]
     },
     "execution_count": 43,
     "metadata": {},
     "output_type": "execute_result"
    }
   ],
   "source": [
    "final.transpose((0, 2,  1)).reshape((num_filters, channels_in))"
   ]
  },
  {
   "cell_type": "code",
   "execution_count": 27,
   "metadata": {},
   "outputs": [
    {
     "data": {
      "text/plain": [
       "(40,)"
      ]
     },
     "execution_count": 27,
     "metadata": {},
     "output_type": "execute_result"
    }
   ],
   "source": [
    "flat_d.shape"
   ]
  },
  {
   "cell_type": "code",
   "execution_count": 33,
   "metadata": {},
   "outputs": [
    {
     "data": {
      "text/plain": [
       "(4, 10)"
      ]
     },
     "execution_count": 33,
     "metadata": {},
     "output_type": "execute_result"
    }
   ],
   "source": [
    "jnp.reshape(flat_d, [num_groups, channels_in]).shape"
   ]
  },
  {
   "cell_type": "code",
   "execution_count": 19,
   "metadata": {},
   "outputs": [
    {
     "data": {
      "text/plain": [
       "2"
      ]
     },
     "execution_count": 19,
     "metadata": {},
     "output_type": "execute_result"
    }
   ],
   "source": [
    "groups"
   ]
  },
  {
   "cell_type": "code",
   "execution_count": 20,
   "metadata": {},
   "outputs": [
    {
     "data": {
      "text/plain": [
       "DeviceArray([ 21,  69, 121, 169], dtype=int32)"
      ]
     },
     "execution_count": 20,
     "metadata": {},
     "output_type": "execute_result"
    }
   ],
   "source": [
    "jnp.sum(final, axis=-1)"
   ]
  },
  {
   "cell_type": "markdown",
   "metadata": {},
   "source": [
    "4 filter outputs as we wanted."
   ]
  },
  {
   "cell_type": "code",
   "execution_count": null,
   "metadata": {},
   "outputs": [],
   "source": []
  }
 ],
 "metadata": {
  "kernelspec": {
   "display_name": "Python 3",
   "language": "python",
   "name": "python3"
  },
  "language_info": {
   "codemirror_mode": {
    "name": "ipython",
    "version": 3
   },
   "file_extension": ".py",
   "mimetype": "text/x-python",
   "name": "python",
   "nbconvert_exporter": "python",
   "pygments_lexer": "ipython3",
   "version": "3.8.6"
  }
 },
 "nbformat": 4,
 "nbformat_minor": 4
}
